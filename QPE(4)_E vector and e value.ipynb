{
 "cells": [
  {
   "cell_type": "code",
   "execution_count": 9,
   "id": "4e5207b2-e49d-42e0-8ba0-c82c759e85f0",
   "metadata": {
    "tags": []
   },
   "outputs": [
    {
     "name": "stdout",
     "output_type": "stream",
     "text": [
      "[[1 0 0 0]\n",
      " [0 0 0 1]\n",
      " [0 0 1 0]\n",
      " [0 1 0 0]]\n",
      "[ 1. -1.  1.  1.]\n",
      "[[ 0.          0.          1.          0.        ]\n",
      " [ 0.70710678  0.70710678  0.          0.        ]\n",
      " [ 0.          0.          0.          1.        ]\n",
      " [ 0.70710678 -0.70710678  0.          0.        ]]\n"
     ]
    }
   ],
   "source": [
    "import numpy as np\n",
    "\n",
    "A = np.array([[1, 0, 0, 0], [0, 0, 0, 1], [0, 0, 1, 0], [0, 1, 0, 0]]) # 4x4 NumPy array\n",
    "print(A) # Print matrix\n",
    "\n",
    "Eval, Evec = np.linalg.eig(A) # Calculate eigenvalues and eigenvectors\n",
    "print(Eval) # Print eigenvalues\n",
    "print(Evec) # Print eigenvectors"
   ]
  },
  {
   "cell_type": "code",
   "execution_count": 10,
   "id": "63ce36e0-4643-42b6-8905-53c5f84351cc",
   "metadata": {
    "tags": []
   },
   "outputs": [
    {
     "name": "stdout",
     "output_type": "stream",
     "text": [
      "[ 0.          0.70710678  0.         -0.70710678]\n",
      "-1.0\n"
     ]
    }
   ],
   "source": [
    "print(Evec[:, 1])  # Print the second eigenvector\n",
    "print(Eval[1])  # Print the second eigenvector"
   ]
  },
  {
   "cell_type": "code",
   "execution_count": 11,
   "id": "f82cdbc9-db0d-491e-9feb-b30faa31e741",
   "metadata": {
    "tags": []
   },
   "outputs": [],
   "source": [
    "# Initializing a 2-qubit system in the obtained eigenvector"
   ]
  },
  {
   "cell_type": "code",
   "execution_count": 3,
   "id": "64600428-fd3f-45ba-b6bd-23a771069d24",
   "metadata": {
    "tags": []
   },
   "outputs": [
    {
     "name": "stdout",
     "output_type": "stream",
     "text": [
      "Traceback \u001b[1;36m(most recent call last)\u001b[0m:\n",
      "\u001b[0m  Cell \u001b[0;32mIn[3], line 13\u001b[0m\n",
      "    qc.initialize(desired_state, [0, 1])  # Apply the statevector to qubits 0 and 1\u001b[0m\n",
      "\u001b[0m  File \u001b[0;32m/opt/conda/lib/python3.10/site-packages/qiskit/extensions/quantum_initializer/initializer.py:194\u001b[0m in \u001b[0;35minitialize\u001b[0m\n",
      "    return self.append(Initialize(params, num_qubits, normalize), qubits)\u001b[0m\n",
      "\u001b[0m  File \u001b[0;32m/opt/conda/lib/python3.10/site-packages/qiskit/extensions/quantum_initializer/initializer.py:58\u001b[0m in \u001b[0;35m__init__\u001b[0m\n",
      "    self._stateprep = StatePreparation(params, num_qubits, normalize=normalize)\u001b[0m\n",
      "\u001b[1;36m  File \u001b[1;32m/opt/conda/lib/python3.10/site-packages/qiskit/circuit/library/data_preparation/state_preparation.py:107\u001b[1;36m in \u001b[1;35m__init__\u001b[1;36m\n",
      "\u001b[1;33m    raise QiskitError(f\"Sum of amplitudes-squared is not 1, but {norm}.\")\u001b[1;36m\n",
      "\u001b[1;31mQiskitError\u001b[0m\u001b[1;31m:\u001b[0m 'Sum of amplitudes-squared is not 1, but 0.9999999983219684.'\n",
      "\n",
      "Use %tb to get the full traceback.\n"
     ]
    },
    {
     "data": {
      "text/html": [
       "\n",
       "<style>\n",
       ".button {\n",
       "  border: none;\n",
       "  color: white;\n",
       "  padding: 4px 8px;\n",
       "  text-align: center;\n",
       "  text-decoration: none;\n",
       "  display: inline-block;\n",
       "  font-size: 12px;\n",
       "  margin: 4px 2px;\n",
       "  transition-duration: 0.2s;\n",
       "  cursor: pointer;\n",
       "}\n",
       ".iqx-button {\n",
       "  background-color: #0f62fe; \n",
       "  color: white; \n",
       "}\n",
       ".iqx-button:hover {\n",
       "  background-color: #0043ce;\n",
       "  color: white;\n",
       "}\n",
       "</style>\n",
       "<a href=\"https://stackoverflow.com/search?q=QiskitError: Sum of amplitudes-squared is not 1, but 0.9999999983219684.\" target='_blank'><button class='button iqx-button'>Search for solution online</button></a>\n"
      ],
      "text/plain": [
       "<IPython.core.display.HTML object>"
      ]
     },
     "metadata": {},
     "output_type": "display_data"
    }
   ],
   "source": [
    "from qiskit import QuantumCircuit\n",
    "from qiskit.quantum_info import Statevector\n",
    "from qiskit import IBMQ, Aer, transpile, assemble\n",
    "from qiskit.visualization import plot_histogram\n",
    "\n",
    "# Define the statevector\n",
    "desired_state = Statevector([0, 0.70710678, 0, -0.70710678])\n",
    "\n",
    "# Create a quantum circuit\n",
    "qc = QuantumCircuit(3,2)\n",
    "\n",
    "# Initialize the quantum circuit to the statevector\n",
    "qc.initialize(desired_state, [0, 1])  # Apply the statevector to qubits 0 and 1\n",
    "\n",
    "# Draw the circuit (optional)\n",
    "print(qc)"
   ]
  },
  {
   "cell_type": "code",
   "execution_count": 4,
   "id": "0b0526fc-f470-4db7-9d2f-1f2da7038532",
   "metadata": {
    "tags": []
   },
   "outputs": [],
   "source": [
    "# In this case, our statevector is not normalized. So we need to normalize it"
   ]
  },
  {
   "cell_type": "code",
   "execution_count": 39,
   "id": "e5c3e450-a7b8-47c9-bfbb-2e539a76a31a",
   "metadata": {
    "tags": []
   },
   "outputs": [
    {
     "name": "stdout",
     "output_type": "stream",
     "text": [
      "     ┌───────────────────────────────────┐\n",
      "q_0: ┤0                                  ├\n",
      "     │  Initialize(0,0.70711,0,-0.70711) │\n",
      "q_1: ┤1                                  ├\n",
      "     └───────────────────────────────────┘\n",
      "q_2: ─────────────────────────────────────\n",
      "                                          \n",
      "c: 2/═════════════════════════════════════\n",
      "                                          \n"
     ]
    }
   ],
   "source": [
    "from qiskit import QuantumCircuit\n",
    "from qiskit.quantum_info import Statevector\n",
    "from qiskit import IBMQ, Aer, transpile, assemble\n",
    "from qiskit.visualization import plot_histogram\n",
    "\n",
    "# Define the statevector\n",
    "desired_state = [0, 0.70710678, 0, -0.70710678]  # Unnormalized statevector\n",
    "\n",
    "# Calculate the normalization factor\n",
    "norm_factor = sum(abs(c)**2 for c in desired_state) ** 0.5\n",
    "\n",
    "# Normalize the statevector\n",
    "normalized_state = [c / norm_factor for c in desired_state]\n",
    "\n",
    "# Create a quantum circuit\n",
    "qc = QuantumCircuit(3,2)\n",
    "\n",
    "# Initialize the quantum circuit to the normalized statevector\n",
    "qc.initialize(Statevector(normalized_state), [0, 1])  # Apply the normalized state to qubits 0 and 1\n",
    "\n",
    "# Draw the circuit (optional)\n",
    "print(qc)\n"
   ]
  },
  {
   "cell_type": "code",
   "execution_count": 40,
   "id": "0dd224a9-4aba-4812-b87e-37531ef8b29e",
   "metadata": {
    "tags": []
   },
   "outputs": [
    {
     "data": {
      "image/png": "[encoded data removed]",
      "text/plain": [
       "<Figure size 705.552x367.889 with 1 Axes>"
      ]
     },
     "execution_count": 40,
     "metadata": {},
     "output_type": "execute_result"
    }
   ],
   "source": [
    "# Perform some operations on the initialized qubits\n",
    "# The initialized state is |-1>\n",
    "qc.x(0)\n",
    "qc.h(1)\n",
    "qc.x(1)\n",
    "\n",
    "# The output should be |00> when measured\n",
    "for n in range(2):\n",
    "    qc.measure(n,n)\n",
    "qc.draw()"
   ]
  },
  {
   "cell_type": "code",
   "execution_count": 41,
   "id": "3a887766-877f-42ee-99a7-aa7d7025f5dd",
   "metadata": {
    "tags": []
   },
   "outputs": [
    {
     "data": {
      "image/png": "[encoded data removed]",
      "text/plain": [
       "<Figure size 700x500 with 1 Axes>"
      ]
     },
     "execution_count": 41,
     "metadata": {},
     "output_type": "execute_result"
    }
   ],
   "source": [
    "# Let's see the results!\n",
    "aer_sim = Aer.get_backend('aer_simulator')\n",
    "t_qc = transpile(qc, aer_sim)\n",
    "results = aer_sim.run(t_qc, shots=1024).result()\n",
    "answer = results.get_counts()\n",
    "\n",
    "plot_histogram(answer)"
   ]
  },
  {
   "cell_type": "code",
   "execution_count": 1,
   "id": "37563136-4eba-4d73-b799-9f407fcdcb77",
   "metadata": {},
   "outputs": [],
   "source": [
    "# Let us find eigenvalues and eigenvectors of some unitaries"
   ]
  },
  {
   "cell_type": "code",
   "execution_count": 5,
   "id": "c34cacbb-2814-4f7f-a5e2-8d2508a044b8",
   "metadata": {
    "tags": []
   },
   "outputs": [
    {
     "name": "stdout",
     "output_type": "stream",
     "text": [
      "[[0.70710678+0.j         0.        +0.70710678j]\n",
      " [0.        +0.70710678j 0.70710678+0.j        ]]\n",
      "[0.70710678+0.70710678j 0.70710678-0.70710678j]\n",
      "[[ 0.70710678+0.00000000e+00j  0.70710678+0.00000000e+00j]\n",
      " [ 0.70710678+0.00000000e+00j -0.70710678-2.77555756e-16j]]\n"
     ]
    }
   ],
   "source": [
    "import numpy as np\n",
    "\n",
    "A = (1 / np.sqrt(2)) * np.array([[1, 1j], [1j, 1]])\n",
    "print(A) # Print matrix\n",
    "\n",
    "Eval, Evec = np.linalg.eig(A) # Calculate eigenvalues and eigenvectors\n",
    "print(Eval) # Print eigenvalues\n",
    "print(Evec) # Print eigenvectors\n"
   ]
  },
  {
   "cell_type": "code",
   "execution_count": 1,
   "id": "d2dedda6-711e-49d4-8f84-b9f73f247596",
   "metadata": {},
   "outputs": [
    {
     "name": "stdout",
     "output_type": "stream",
     "text": [
      "[[ 0.57735027+0.j          0.57735027+0.57735027j]\n",
      " [ 0.57735027-0.57735027j -0.57735027+0.j        ]]\n",
      "[ 1.-4.53246652e-17j -1.+4.53246652e-17j]\n",
      "[[ 0.88807383+0.j         -0.32505758-0.32505758j]\n",
      " [ 0.32505758-0.32505758j  0.88807383+0.j        ]]\n"
     ]
    }
   ],
   "source": [
    "import numpy as np\n",
    "\n",
    "A = (1 / np.sqrt(3)) * np.array([[1, 1 + 1j], [1 - 1j, -1]])\n",
    "print(A) # Print matrix\n",
    "\n",
    "Eval, Evec = np.linalg.eig(A) # Calculate eigenvalues and eigenvectors\n",
    "print(Eval) # Print eigenvalues\n",
    "print(Evec) # Print eigenvectors\n"
   ]
  },
  {
   "cell_type": "code",
   "execution_count": null,
   "id": "1930a55e-686f-4ff5-a9a6-e31f0bca769c",
   "metadata": {},
   "outputs": [],
   "source": []
  }
 ],
 "metadata": {
  "kernelspec": {
   "display_name": "Qiskit v1.0.2 (ipykernel)",
   "language": "python",
   "name": "python3"
  },
  "language_info": {
   "codemirror_mode": {
    "name": "ipython",
    "version": 3
   },
   "file_extension": ".py",
   "mimetype": "text/x-python",
   "name": "python",
   "nbconvert_exporter": "python",
   "pygments_lexer": "ipython3",
   "version": "3.10.8"
  },
  "widgets": {
   "application/vnd.jupyter.widget-state+json": {
    "state": {},
    "version_major": 2,
    "version_minor": 0
   }
  }
 },
 "nbformat": 4,
 "nbformat_minor": 5
}
