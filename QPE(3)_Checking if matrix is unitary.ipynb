{
 "cells": [
  {
   "cell_type": "code",
   "execution_count": 7,
   "id": "df370cb8-b233-49e8-af45-4ffe13c500b6",
   "metadata": {
    "tags": []
   },
   "outputs": [
    {
     "name": "stdout",
     "output_type": "stream",
     "text": [
      "[[ 0.707  0.707]\n",
      " [ 0.707 -0.707]]\n",
      "The matrix is not unitary.\n"
     ]
    }
   ],
   "source": [
    "import numpy as np\n",
    "\n",
    "# Define your matrix\n",
    "matrix = np.array([[0.707, 0.707], [0.707, -0.707]])\n",
    "print(matrix)\n",
    "\n",
    "# Verify if the matrix is square\n",
    "if matrix.shape[0] != matrix.shape[1]:\n",
    "    print(\"The matrix is not square, therefore not unitary.\")\n",
    "else:\n",
    "    # Compute the conjugate transpose\n",
    "    conjugate_transpose = np.conjugate(np.transpose(matrix))\n",
    "\n",
    "    # Multiply the original matrix with its conjugate transpose\n",
    "    product = np.matmul(matrix, conjugate_transpose)\n",
    "\n",
    "    # Check if the resulting product is equal to the identity matrix\n",
    "    identity_matrix = np.identity(matrix.shape[0])\n",
    "    \n",
    "    # Check if the product is close to the identity matrix\n",
    "    if np.allclose(product, identity_matrix):\n",
    "        print(\"The matrix is unitary.\")\n",
    "    else:\n",
    "        print(\"The matrix is not unitary.\")\n"
   ]
  },
  {
   "cell_type": "code",
   "execution_count": 8,
   "id": "ac3a609b-63d2-4393-880b-35357c2819c6",
   "metadata": {
    "tags": []
   },
   "outputs": [
    {
     "name": "stdout",
     "output_type": "stream",
     "text": [
      "[[1 0 0 0]\n",
      " [0 0 0 1]\n",
      " [0 0 1 0]\n",
      " [0 1 0 0]]\n",
      "The matrix is unitary.\n"
     ]
    }
   ],
   "source": [
    "import numpy as np\n",
    "\n",
    "# Define your matrix\n",
    "matrix = np.array([[1, 0, 0, 0], [0, 0, 0, 1], [0, 0, 1, 0], [0, 1, 0, 0]])\n",
    "print(matrix)\n",
    "\n",
    "# Verify if the matrix is square\n",
    "if matrix.shape[0] != matrix.shape[1]:\n",
    "    print(\"The matrix is not square, therefore not unitary.\")\n",
    "else:\n",
    "    # Compute the conjugate transpose\n",
    "    conjugate_transpose = np.conjugate(np.transpose(matrix))\n",
    "\n",
    "    # Multiply the original matrix with its conjugate transpose\n",
    "    product = np.matmul(matrix, conjugate_transpose)\n",
    "\n",
    "    # Check if the resulting product is equal to the identity matrix\n",
    "    identity_matrix = np.identity(matrix.shape[0])\n",
    "    \n",
    "    # Check if the product is close to the identity matrix\n",
    "    if np.allclose(product, identity_matrix):\n",
    "        print(\"The matrix is unitary.\")\n",
    "    else:\n",
    "        print(\"The matrix is not unitary.\")\n"
   ]
  },
  {
   "cell_type": "code",
   "execution_count": 9,
   "id": "6e5bc86f-49dc-4bce-becb-cb609aa2cd27",
   "metadata": {},
   "outputs": [
    {
     "name": "stdout",
     "output_type": "stream",
     "text": [
      "[[1.        +0.j         0.        +0.j        ]\n",
      " [0.        +0.j         0.70710678+0.70710678j]]\n",
      "The matrix is unitary.\n"
     ]
    }
   ],
   "source": [
    "import numpy as np\n",
    "\n",
    "# Define your matrix\n",
    "matrix = np.array([[1, 0], [0, np.exp(1j * np.pi / 4)]])\n",
    "print(matrix)\n",
    "\n",
    "# Verify if the matrix is square\n",
    "if matrix.shape[0] != matrix.shape[1]:\n",
    "    print(\"The matrix is not square, therefore not unitary.\")\n",
    "else:\n",
    "    # Compute the conjugate transpose\n",
    "    conjugate_transpose = np.conjugate(np.transpose(matrix))\n",
    "\n",
    "    # Multiply the original matrix with its conjugate transpose\n",
    "    product = np.matmul(matrix, conjugate_transpose)\n",
    "\n",
    "    # Check if the resulting product is equal to the identity matrix\n",
    "    identity_matrix = np.identity(matrix.shape[0])\n",
    "    \n",
    "    # Check if the product is close to the identity matrix\n",
    "    if np.allclose(product, identity_matrix):\n",
    "        print(\"The matrix is unitary.\")\n",
    "    else:\n",
    "        print(\"The matrix is not unitary.\")"
   ]
  },
  {
   "cell_type": "code",
   "execution_count": 10,
   "id": "8fb9a699-39b1-416b-9e58-56da9a9f14fc",
   "metadata": {
    "tags": []
   },
   "outputs": [
    {
     "name": "stdout",
     "output_type": "stream",
     "text": [
      "[[0.70710678+0.j         0.        +0.70710678j]\n",
      " [0.        +0.70710678j 0.70710678+0.j        ]]\n",
      "The matrix is unitary.\n"
     ]
    }
   ],
   "source": [
    "import numpy as np\n",
    "\n",
    "# Define your matrix\n",
    "matrix = (1 / np.sqrt(2)) * np.array([[1, 1j], [1j, 1]])\n",
    "print(matrix)\n",
    "\n",
    "# Verify if the matrix is square\n",
    "if matrix.shape[0] != matrix.shape[1]:\n",
    "    print(\"The matrix is not square, therefore not unitary.\")\n",
    "else:\n",
    "    # Compute the conjugate transpose\n",
    "    conjugate_transpose = np.conjugate(np.transpose(matrix))\n",
    "\n",
    "    # Multiply the original matrix with its conjugate transpose\n",
    "    product = np.matmul(matrix, conjugate_transpose)\n",
    "\n",
    "    # Check if the resulting product is equal to the identity matrix\n",
    "    identity_matrix = np.identity(matrix.shape[0])\n",
    "    \n",
    "    # Check if the product is close to the identity matrix\n",
    "    if np.allclose(product, identity_matrix):\n",
    "        print(\"The matrix is unitary.\")\n",
    "    else:\n",
    "        print(\"The matrix is not unitary.\")"
   ]
  },
  {
   "cell_type": "code",
   "execution_count": 11,
   "id": "640adfb7-3ff2-4924-978e-18d01426ac07",
   "metadata": {
    "tags": []
   },
   "outputs": [
    {
     "name": "stdout",
     "output_type": "stream",
     "text": [
      "[[ 0.70710678+0.70710678j  0.        +0.j        ]\n",
      " [ 0.        +0.j         -0.70710678-0.70710678j]]\n",
      "The matrix is unitary.\n"
     ]
    }
   ],
   "source": [
    "import numpy as np\n",
    "\n",
    "# Define your matrix\n",
    "matrix = np.array([[np.exp(1j * np.pi / 4), 0], [0, -np.exp(1j * np.pi / 4)]])\n",
    "print(matrix)\n",
    "\n",
    "# Verify if the matrix is square\n",
    "if matrix.shape[0] != matrix.shape[1]:\n",
    "    print(\"The matrix is not square, therefore not unitary.\")\n",
    "else:\n",
    "    # Compute the conjugate transpose\n",
    "    conjugate_transpose = np.conjugate(np.transpose(matrix))\n",
    "\n",
    "    # Multiply the original matrix with its conjugate transpose\n",
    "    product = np.matmul(matrix, conjugate_transpose)\n",
    "\n",
    "    # Check if the resulting product is equal to the identity matrix\n",
    "    identity_matrix = np.identity(matrix.shape[0])\n",
    "    \n",
    "    # Check if the product is close to the identity matrix\n",
    "    if np.allclose(product, identity_matrix):\n",
    "        print(\"The matrix is unitary.\")\n",
    "    else:\n",
    "        print(\"The matrix is not unitary.\")"
   ]
  },
  {
   "cell_type": "code",
   "execution_count": 18,
   "id": "b0661d1f-8e62-4c0a-83e5-72086471c769",
   "metadata": {
    "tags": []
   },
   "outputs": [
    {
     "name": "stdout",
     "output_type": "stream",
     "text": [
      "[[ 0.57735027+0.j          0.57735027+0.57735027j]\n",
      " [ 0.57735027-0.57735027j -0.57735027+0.j        ]]\n",
      "The matrix is unitary.\n"
     ]
    }
   ],
   "source": [
    "import numpy as np\n",
    "\n",
    "# Define your matrix\n",
    "matrix = (1 / np.sqrt(3)) * np.array([[1, 1 + 1j], [1 - 1j, -1]])\n",
    "print(matrix)\n",
    "\n",
    "# Verify if the matrix is square\n",
    "if matrix.shape[0] != matrix.shape[1]:\n",
    "    print(\"The matrix is not square, therefore not unitary.\")\n",
    "else:\n",
    "    # Compute the conjugate transpose\n",
    "    conjugate_transpose = np.conjugate(np.transpose(matrix))\n",
    "\n",
    "    # Multiply the original matrix with its conjugate transpose\n",
    "    product = np.matmul(matrix, conjugate_transpose)\n",
    "\n",
    "    # Check if the resulting product is equal to the identity matrix\n",
    "    identity_matrix = np.identity(matrix.shape[0])\n",
    "    \n",
    "    # Check if the product is close to the identity matrix\n",
    "    if np.allclose(product, identity_matrix):\n",
    "        print(\"The matrix is unitary.\")\n",
    "    else:\n",
    "        print(\"The matrix is not unitary.\")"
   ]
  },
  {
   "cell_type": "code",
   "execution_count": 20,
   "id": "a8a9a4e4-e84b-43b9-96ab-904c6b793a3a",
   "metadata": {
    "tags": []
   },
   "outputs": [
    {
     "name": "stdout",
     "output_type": "stream",
     "text": [
      "[[-0.22252093 -0.97492791]\n",
      " [ 0.97492791 -0.22252093]]\n",
      "The matrix is unitary.\n"
     ]
    }
   ],
   "source": [
    "import numpy as np\n",
    "\n",
    "# Define your matrix\n",
    "x = (4 * np.pi)/7\n",
    "matrix = np.array([[np.cos(x), -np.sin(x)], [np.sin(x), np.cos(x)]])\n",
    "print(matrix)\n",
    "\n",
    "# Verify if the matrix is square\n",
    "if matrix.shape[0] != matrix.shape[1]:\n",
    "    print(\"The matrix is not square, therefore not unitary.\")\n",
    "else:\n",
    "    # Compute the conjugate transpose\n",
    "    conjugate_transpose = np.conjugate(np.transpose(matrix))\n",
    "\n",
    "    # Multiply the original matrix with its conjugate transpose\n",
    "    product = np.matmul(matrix, conjugate_transpose)\n",
    "\n",
    "    # Check if the resulting product is equal to the identity matrix\n",
    "    identity_matrix = np.identity(matrix.shape[0])\n",
    "    \n",
    "    # Check if the product is close to the identity matrix\n",
    "    if np.allclose(product, identity_matrix):\n",
    "        print(\"The matrix is unitary.\")\n",
    "    else:\n",
    "        print(\"The matrix is not unitary.\")"
   ]
  },
  {
   "cell_type": "code",
   "execution_count": null,
   "id": "f7180e98-b2f0-445b-a306-e20de5beed3e",
   "metadata": {},
   "outputs": [],
   "source": []
  }
 ],
 "metadata": {
  "kernelspec": {
   "display_name": "Qiskit v1.0.2 (ipykernel)",
   "language": "python",
   "name": "python3"
  },
  "language_info": {
   "codemirror_mode": {
    "name": "ipython",
    "version": 3
   },
   "file_extension": ".py",
   "mimetype": "text/x-python",
   "name": "python",
   "nbconvert_exporter": "python",
   "pygments_lexer": "ipython3",
   "version": "3.10.8"
  },
  "widgets": {
   "application/vnd.jupyter.widget-state+json": {
    "state": {},
    "version_major": 2,
    "version_minor": 0
   }
  }
 },
 "nbformat": 4,
 "nbformat_minor": 5
}
