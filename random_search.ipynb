{
 "cells": [
  {
   "cell_type": "code",
   "execution_count": 1,
   "id": "a5603229",
   "metadata": {},
   "outputs": [],
   "source": [
    "# Code to find the maximum element of 8th column of an (N x 8) matrix using random search"
   ]
  },
  {
   "cell_type": "code",
   "execution_count": 2,
   "id": "d685c12a",
   "metadata": {},
   "outputs": [
    {
     "name": "stdout",
     "output_type": "stream",
     "text": [
      "Maximum value in the 8th column: 12.66\n"
     ]
    }
   ],
   "source": [
    "import numpy as np\n",
    "\n",
    "matrix = np.loadtxt('PSO_Test_23_9.txt', delimiter=',') # Load the matrix from the text file\n",
    "num_samples = 200 # Number of random samples to try in random search\n",
    "max_value = -float('inf') # Initialize max_value as -infinity so that it can always be bettered\n",
    "\n",
    "# Random search loop\n",
    "for sample in range(num_samples):\n",
    "    row_index = np.random.randint(0, len(matrix) - 1) # Generate a random row index within the range of the matrix's rows\n",
    "    value = matrix[row_index, 7] # Get the value in the 8th column for the randomly selected row\n",
    "    \n",
    "    # Update the maximum value if necessary\n",
    "    if value > max_value:\n",
    "        max_value = value\n",
    "\n",
    "# Print the maximum value in the 8th column\n",
    "print(f\"Maximum value in the 8th column: {max_value}\")"
   ]
  },
  {
   "cell_type": "code",
   "execution_count": 14,
   "id": "0421840c",
   "metadata": {},
   "outputs": [
    {
     "name": "stdout",
     "output_type": "stream",
     "text": [
      "Average maximum value in 100 runs: 12.326200000000002\n"
     ]
    }
   ],
   "source": [
    "# AVERAGE FOR 100 RUNS\n",
    "\n",
    "import numpy as np\n",
    "matrix = np.loadtxt('PSO_Test_23_9.txt', delimiter=',')\n",
    "num_samples = 200\n",
    "num_runs = 100 # Number of runs\n",
    "\n",
    "# Initialize a list to store the maximum values in each run\n",
    "list_max_values = []\n",
    "\n",
    "# Perform random search for each run\n",
    "for run in range(num_runs):\n",
    "    max_value = -float('inf') \n",
    "    \n",
    "    # Random search loop\n",
    "    for sample in range(num_samples):\n",
    "        row_index = np.random.randint(0, len(matrix) - 1)\n",
    "        value = matrix[row_index, 7]\n",
    "    \n",
    "        # Update the maximum value if necessary\n",
    "        if value > max_value:\n",
    "            max_value = value\n",
    "    \n",
    "    # Append the maximum value from this run to the list\n",
    "    list_max_values.append(max_value)\n",
    "\n",
    "# Calculate the average of maximum values\n",
    "average_max_value = np.mean(list_max_values)\n",
    "\n",
    "# Print the average maximum value\n",
    "print(f\"Average maximum value in {num_runs} runs: {average_max_value}\")"
   ]
  },
  {
   "cell_type": "code",
   "execution_count": null,
   "id": "4f5bebbe",
   "metadata": {},
   "outputs": [],
   "source": []
  }
 ],
 "metadata": {
  "kernelspec": {
   "display_name": "Python 3 (ipykernel)",
   "language": "python",
   "name": "python3"
  },
  "language_info": {
   "codemirror_mode": {
    "name": "ipython",
    "version": 3
   },
   "file_extension": ".py",
   "mimetype": "text/x-python",
   "name": "python",
   "nbconvert_exporter": "python",
   "pygments_lexer": "ipython3",
   "version": "3.9.7"
  }
 },
 "nbformat": 4,
 "nbformat_minor": 5
}
