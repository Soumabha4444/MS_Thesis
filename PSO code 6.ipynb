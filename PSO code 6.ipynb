{
 "cells": [
  {
   "cell_type": "code",
   "execution_count": null,
   "id": "f9a7b9c9",
   "metadata": {},
   "outputs": [],
   "source": [
    "# Code to find the maximum element of 8th column of an (N x 8) matrix using PSO (particle swarm optimization)"
   ]
  },
  {
   "cell_type": "code",
   "execution_count": null,
   "id": "cb98517b",
   "metadata": {},
   "outputs": [],
   "source": [
    "# PSO code"
   ]
  },
  {
   "cell_type": "code",
   "execution_count": 15,
   "id": "77f00d8d",
   "metadata": {},
   "outputs": [
    {
     "name": "stdout",
     "output_type": "stream",
     "text": [
      "Maximum value in the 8th column: 13.17\n"
     ]
    }
   ],
   "source": [
    "import numpy as np\n",
    "import random\n",
    "\n",
    "matrix = np.loadtxt('PSO_Test_23_9.txt', delimiter=',')\n",
    "num_particles = 10 # Define the number of particles\n",
    "num_iterations = 20 # Define the number of iterations\n",
    "# Each particle does 1 function call per iteration. So, a total of 200 function calls made\n",
    "\n",
    "# Initialize PSO parameters\n",
    "c1 = 1.5\n",
    "c2 = 1.5\n",
    "w = 0.5\n",
    "\n",
    "# Initialize particle positions, velocities, and personal best positions\n",
    "particle_positions = [] # List of particle positions for all 10 particles\n",
    "particle_velocities = [] # List of particle velocities for all 10 particles\n",
    "pbest_positions = [] # List of pbest positions for all 10 particles\n",
    "pbest_values = [] # List of pbest values for all 10 particles\n",
    "\n",
    "for particle in range(num_particles):\n",
    "    random_row = random.randint(0, len(matrix) - 1) # Initialize random positions for each particle based on rows in the matrix\n",
    "    particle_positions.append(matrix[random_row, :7]) # Each particle position= 1 row of the matrix (first 7 columns)\n",
    "    particle_velocities.append(np.random.uniform(-0.1, 0.1, size=7)) # Initialize random velocities for each particle\n",
    "    pbest_positions.append(particle_positions[-1].copy()) # Initially set personal best positions to be the same as initial positions\n",
    "    # [-1] is used to access the last element (i.e. the current position) of the particle_positions list\n",
    "    pbest_values.append(float('-inf')) # Initially all pbest values= -infinity, so that they can always be bettered\n",
    "    \n",
    "# Initialize global best position and value\n",
    "gbest_position = particle_positions[0].copy() # Initialize gbest_position with one of the particle positions to avoid NoneType error\n",
    "gbest_value = float('-inf') # so that it can always be bettered\n",
    "\n",
    "# Define a function to calculate Euclidean distance between two arrays\n",
    "def euclidean_distance(arr1, arr2):\n",
    "    return np.linalg.norm(arr1 - arr2)\n",
    "\n",
    "# Main PSO loop\n",
    "for iteration in range(num_iterations):\n",
    "    for i in range(num_particles):\n",
    "        # Calculate the Euclidean distances between the current particle position and all rows of the matrix\n",
    "        distances = [euclidean_distance(particle_positions[i], row[:7]) for row in matrix]\n",
    "        \n",
    "        # Find the index of the row with the minimum distance\n",
    "        min_distance_index = np.argmin(distances)\n",
    "        \n",
    "        # Update current position to be the row with the minimum distance\n",
    "        current_position = matrix[min_distance_index, :7]\n",
    "        \n",
    "        # Update current value to be the value from the 8th column of the selected row\n",
    "        current_value = matrix[min_distance_index, 7] # this is where function call happens, and we extract 8th column value of a row\n",
    "        \n",
    "        # Update personal best position if needed\n",
    "        if current_value > pbest_values[i]: # i.e. if current value is better than pbest value of the particle\n",
    "            pbest_positions[i] = current_position.copy()\n",
    "            pbest_values[i] = current_value\n",
    "        \n",
    "        # Update the global best position and value\n",
    "        if pbest_values[i] > gbest_value:\n",
    "                gbest_value = pbest_values[i]\n",
    "                gbest_position = pbest_positions[i].copy()\n",
    "                \n",
    "        # Update the particle's velocity and position\n",
    "        r = np.random.rand(2)\n",
    "        inertia = w * particle_velocities[i]\n",
    "        cognitive = c1 * r[0] * (pbest_positions[i] - particle_positions[i])\n",
    "        social = c2 * r[1] * (gbest_position - particle_positions[i])\n",
    "        particle_velocities[i] = inertia + cognitive + social\n",
    "        particle_positions[i] = particle_positions[i] + particle_velocities[i]\n",
    "\n",
    "# After the loop, global_best_value will contain the maximum value from the 8th column\n",
    "print(f'Maximum value in the 8th column: {gbest_value}')\n"
   ]
  },
  {
   "cell_type": "code",
   "execution_count": 19,
   "id": "d9a7e625",
   "metadata": {},
   "outputs": [
    {
     "name": "stdout",
     "output_type": "stream",
     "text": [
      "Average maximum value over 100 runs: 12.785599999999999\n"
     ]
    }
   ],
   "source": [
    "# AVERAGE FOR 100 RUNS\n",
    "\n",
    "import numpy as np\n",
    "import random\n",
    "\n",
    "matrix = np.loadtxt('PSO_Test_23_9.txt', delimiter=',')\n",
    "num_particles = 10 # Define the number of particles\n",
    "num_iterations = 10 # Define the number of iterations\n",
    "# Each particle does 1 function call per iteration. So, a total of 200 function calls made\n",
    "num_runs = 100 # Define the number of runs\n",
    "\n",
    "# Initialize PSO parameters\n",
    "c1 = 1.5\n",
    "c2 = 1.5\n",
    "w = 0.5\n",
    "max_values = [] # Initialize a list to store maximum values for each run\n",
    "\n",
    "# Define a function to calculate Euclidean distance between two arrays\n",
    "def euclidean_distance(arr1, arr2):\n",
    "    return np.linalg.norm(arr1 - arr2)\n",
    "\n",
    "# Run the PSO algorithm multiple times\n",
    "for run in range(num_runs):\n",
    "    # Initialize particle positions, velocities, and personal best positions\n",
    "    particle_positions = [] # List of particle positions for all 10 particles\n",
    "    particle_velocities = [] # List of particle velocities for all 10 particles\n",
    "    pbest_positions = [] # List of pbest positions for all 10 particles\n",
    "    pbest_values = [] # List of pbest values for all 10 particles\n",
    "\n",
    "    for particle in range(num_particles):\n",
    "        random_row = random.randint(0, len(matrix) - 1) # Initialize random positions for each particle based on rows in the matrix\n",
    "        particle_positions.append(matrix[random_row, :7]) # Each particle position= 1 row of the matrix (first 7 columns)\n",
    "        particle_velocities.append(np.random.uniform(-0.1, 0.1, size=7)) # Initialize random velocities for each particle\n",
    "        pbest_positions.append(particle_positions[-1].copy()) # Initially set personal best positions to be the same as initial positions\n",
    "        # [-1] is used to access the last element (i.e. the current position) of the particle_positions list\n",
    "        pbest_values.append(float('-inf')) # Initially all pbest values= -infinity, so that they can always be bettered\n",
    "    \n",
    "    # Initialize global best position and value\n",
    "    gbest_position = particle_positions[0].copy() # Initialize gbest_position with one of the particle positions to avoid NoneType error\n",
    "    gbest_value = float('-inf') # so that it can always be bettered\n",
    "\n",
    "    # Main PSO loop\n",
    "    for iteration in range(num_iterations):\n",
    "        for i in range(num_particles):\n",
    "            # Calculate the Euclidean distances between the current particle position and all rows of the matrix\n",
    "            distances = [euclidean_distance(particle_positions[i], row[:7]) for row in matrix]\n",
    "        \n",
    "            # Find the index of the row with the minimum distance\n",
    "            min_distance_index = np.argmin(distances)\n",
    "        \n",
    "            # Update current position to be the row with the minimum distance\n",
    "            current_position = matrix[min_distance_index, :7]\n",
    "        \n",
    "            # Update current value to be the value from the 8th column of the selected row\n",
    "            current_value = matrix[min_distance_index, 7] # this is where function call happens, and we extract 8th column value of a row\n",
    "        \n",
    "            # Update personal best position if needed\n",
    "            if current_value > pbest_values[i]: # i.e. if current value is better than pbest value of the particle\n",
    "                pbest_positions[i] = current_position.copy()\n",
    "                pbest_values[i] = current_value\n",
    "        \n",
    "            # Update the global best position and value\n",
    "            if pbest_values[i] > gbest_value:\n",
    "                    gbest_value = pbest_values[i]\n",
    "                    gbest_position = pbest_positions[i].copy()\n",
    "                \n",
    "            # Update the particle's velocity and position\n",
    "            r = np.random.rand(2) # Generate 2 random numbers between [0,1)\n",
    "            inertia = w * particle_velocities[i]\n",
    "            cognitive = c1 * r[0] * (pbest_positions[i] - particle_positions[i])\n",
    "            social = c2 * r[1] * (gbest_position - particle_positions[i])\n",
    "            particle_velocities[i] = inertia + cognitive + social\n",
    "            particle_positions[i] = particle_positions[i] + particle_velocities[i]\n",
    "\n",
    "    # Append the maximum value from this run to the max_values list\n",
    "    max_values.append(gbest_value)\n",
    "\n",
    "# Calculate and print the average of maximum values over all runs\n",
    "average_max_value = np.mean(max_values)\n",
    "print(f'Average maximum value over {num_runs} runs: {average_max_value}')\n"
   ]
  },
  {
   "cell_type": "code",
   "execution_count": null,
   "id": "3b2ba322",
   "metadata": {},
   "outputs": [],
   "source": []
  },
  {
   "cell_type": "code",
   "execution_count": 8,
   "id": "74286320",
   "metadata": {},
   "outputs": [],
   "source": [
    "# Random search"
   ]
  },
  {
   "cell_type": "code",
   "execution_count": 17,
   "id": "ae0e1f65",
   "metadata": {},
   "outputs": [
    {
     "name": "stdout",
     "output_type": "stream",
     "text": [
      "Maximum value in the 8th column: 13.17\n"
     ]
    }
   ],
   "source": [
    "import numpy as np\n",
    "\n",
    "matrix = np.loadtxt('PSO_Test_23_9.txt', delimiter=',') # Load the matrix from the text file\n",
    "num_samples = 200 # Number of random samples to try in random search\n",
    "max_value = -float('inf') # Initialize max_value as -infinity so that it can always be bettered\n",
    "\n",
    "# Random search loop\n",
    "for sample in range(num_samples):\n",
    "    row_index = np.random.randint(0, len(matrix) - 1) # Generate a random row index within the range of the matrix's rows\n",
    "    value = matrix[row_index, 7] # Get the value in the 8th column for the randomly selected row\n",
    "    \n",
    "    # Update the maximum value if necessary\n",
    "    if value > max_value:\n",
    "        max_value = value\n",
    "\n",
    "# Print the maximum value in the 8th column\n",
    "print(f\"Maximum value in the 8th column: {max_value}\")\n"
   ]
  },
  {
   "cell_type": "code",
   "execution_count": 20,
   "id": "38202ba3",
   "metadata": {},
   "outputs": [
    {
     "name": "stdout",
     "output_type": "stream",
     "text": [
      "Average maximum value in 100 runs: 12.311\n"
     ]
    }
   ],
   "source": [
    "# AVERAGE FOR 100 RUNS\n",
    "\n",
    "import numpy as np\n",
    "matrix = np.loadtxt('PSO_Test_23_9.txt', delimiter=',')\n",
    "num_samples = 200\n",
    "num_runs = 100 # Number of runs\n",
    "\n",
    "# Initialize a list to store the maximum values in each run\n",
    "list_max_values = []\n",
    "\n",
    "# Perform random search for each run\n",
    "for run in range(num_runs):\n",
    "    max_value = -float('inf') \n",
    "    \n",
    "    # Random search loop\n",
    "    for sample in range(num_samples):\n",
    "        row_index = np.random.randint(0, len(matrix) - 1)\n",
    "        value = matrix[row_index, 7]\n",
    "    \n",
    "        # Update the maximum value if necessary\n",
    "        if value > max_value:\n",
    "            max_value = value\n",
    "    \n",
    "    # Append the maximum value from this run to the list\n",
    "    list_max_values.append(max_value)\n",
    "\n",
    "# Calculate the average of maximum values\n",
    "average_max_value = np.mean(list_max_values)\n",
    "\n",
    "# Print the average maximum value\n",
    "print(f\"Average maximum value in {num_runs} runs: {average_max_value}\")\n"
   ]
  },
  {
   "cell_type": "code",
   "execution_count": null,
   "id": "c96c0b48",
   "metadata": {},
   "outputs": [],
   "source": []
  }
 ],
 "metadata": {
  "kernelspec": {
   "display_name": "Python 3 (ipykernel)",
   "language": "python",
   "name": "python3"
  },
  "language_info": {
   "codemirror_mode": {
    "name": "ipython",
    "version": 3
   },
   "file_extension": ".py",
   "mimetype": "text/x-python",
   "name": "python",
   "nbconvert_exporter": "python",
   "pygments_lexer": "ipython3",
   "version": "3.9.7"
  }
 },
 "nbformat": 4,
 "nbformat_minor": 5
}
